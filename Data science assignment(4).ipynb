{
 "cells": [
  {
   "cell_type": "markdown",
   "id": "90c6e496-411a-4afe-a018-599559a079c2",
   "metadata": {},
   "source": [
    "Python Assigment-4"
   ]
  },
  {
   "cell_type": "markdown",
   "id": "98d906cf-2f6d-4ada-bdd3-325e72116ffb",
   "metadata": {},
   "source": [
    "Question-1-Create a python program to sort the given list of tuples based on integer value using a\n",
    "lambda function."
   ]
  },
  {
   "cell_type": "markdown",
   "id": "1cb5d274-bfeb-495a-8020-c146f0a58c04",
   "metadata": {},
   "source": [
    "Answer-1-"
   ]
  },
  {
   "cell_type": "code",
   "execution_count": 5,
   "id": "9bb88f7a-03e7-4efb-add2-5abefd47f191",
   "metadata": {},
   "outputs": [
    {
     "name": "stdout",
     "output_type": "stream",
     "text": [
      "[('Jack Kallis', 25534), ('Ricky Ponting', 27483), ('Sachin Tendulkar', 343357), ('Virat Kohli', 24936)]\n"
     ]
    }
   ],
   "source": [
    "cricket = [('Sachin Tendulkar', 343357), ('Ricky Ponting', 27483), ('Jack Kallis', 25534), ('Virat Kohli', 24936)]\n",
    "\n",
    "sorted_cricket = sorted(cricket, key=lambda x: x[0])\n",
    "\n",
    "print(sorted_cricket)"
   ]
  },
  {
   "cell_type": "markdown",
   "id": "96e0a02f-7314-43c4-8ad3-abde4f3effc1",
   "metadata": {},
   "source": [
    "Question-2- Write a Python Program to find the squares of all the numbers in the given list of integers using\n",
    "lambda and map functions.\n",
    "[1, 2, 3, 4, 5, 6, 7, 8, 9, 10]"
   ]
  },
  {
   "cell_type": "markdown",
   "id": "2b48de78-89ee-4ddd-bd32-fee09d51ed81",
   "metadata": {},
   "source": [
    "Answer-2-"
   ]
  },
  {
   "cell_type": "code",
   "execution_count": 6,
   "id": "8cbad96f-d5c7-4c6e-ab2d-58e92eb28ea5",
   "metadata": {},
   "outputs": [
    {
     "name": "stdout",
     "output_type": "stream",
     "text": [
      "[1, 4, 9, 16, 25, 36, 49, 64, 81, 100]\n"
     ]
    }
   ],
   "source": [
    "l= [1, 2, 3, 4, 5, 6, 7, 8, 9, 10]\n",
    "\n",
    "squared_numbers = list(map(lambda x: x**2, l))\n",
    "\n",
    "print(squared_numbers)"
   ]
  },
  {
   "cell_type": "markdown",
   "id": "80ee2b78-3975-49ed-bc4a-5013a8096138",
   "metadata": {},
   "source": [
    "Question-3- Write a python program to convert the given list of integers into a tuple of strings. Use map and\n",
    "lambda functions\n",
    "Given String: [1, 2, 3, 4, 5, 6, 7, 8, 9, 10]\n",
    "Expected output: ('1', '2', '3', '4', '5', '6', '7', '8', '9', '10')"
   ]
  },
  {
   "cell_type": "markdown",
   "id": "11d87a0e-8345-405d-b5a0-ca1679098f93",
   "metadata": {},
   "source": [
    "Answer-3-"
   ]
  },
  {
   "cell_type": "code",
   "execution_count": 7,
   "id": "9f3ff199-ef2a-4d91-b51c-3ec47d547d7f",
   "metadata": {},
   "outputs": [
    {
     "name": "stdout",
     "output_type": "stream",
     "text": [
      "('1', '2', '3', '4', '5', '6', '7', '8', '9', '10')\n"
     ]
    }
   ],
   "source": [
    "s= [1, 2, 3, 4, 5, 6, 7, 8, 9, 10]\n",
    "t= tuple(map(lambda x: str(x), s))\n",
    "\n",
    "print(t)"
   ]
  },
  {
   "cell_type": "markdown",
   "id": "0d416956-cd0f-4802-9376-b4df77a02246",
   "metadata": {},
   "source": [
    "Question-4-Write a python program using reduce function to compute the product of a list containing numbers\n",
    "from 1 to 25."
   ]
  },
  {
   "cell_type": "markdown",
   "id": "3268fc78-3e2c-4096-b78e-c77e62a4b678",
   "metadata": {},
   "source": [
    "Answer-4-"
   ]
  },
  {
   "cell_type": "code",
   "execution_count": 8,
   "id": "e20d28b6-6a55-49f7-8c2d-f1521f1aea19",
   "metadata": {},
   "outputs": [],
   "source": [
    "from functools import reduce"
   ]
  },
  {
   "cell_type": "code",
   "execution_count": 9,
   "id": "c9f723f6-2b23-4569-bd73-aa7dbd539dd3",
   "metadata": {},
   "outputs": [
    {
     "name": "stdout",
     "output_type": "stream",
     "text": [
      "15511210043330985984000000\n"
     ]
    }
   ],
   "source": [
    "n= list(range(1, 26))\n",
    "\n",
    "product = reduce(lambda x, y: x * y, n)\n",
    "\n",
    "print(product)"
   ]
  },
  {
   "cell_type": "markdown",
   "id": "7bbb7195-6982-48f2-b799-747c451ec211",
   "metadata": {},
   "source": [
    "Question-5- Write a python program to filter the numbers in a given list that are divisible by 2 and 3 using the\n",
    "filter function."
   ]
  },
  {
   "cell_type": "markdown",
   "id": "a32aeb37-e05d-4d06-9a1b-590ed20938e5",
   "metadata": {},
   "source": [
    "Answer-5-"
   ]
  },
  {
   "cell_type": "code",
   "execution_count": 11,
   "id": "3e48e4eb-c690-4a86-ae9e-bf08ed178cc5",
   "metadata": {},
   "outputs": [
    {
     "name": "stdout",
     "output_type": "stream",
     "text": [
      "[6, 60, 90, 120]\n"
     ]
    }
   ],
   "source": [
    "numbers = [2, 3, 6, 9, 27, 60, 90, 120, 55, 46]\n",
    "\n",
    "filtered_numbers = list(filter(lambda x: x % 2 == 0 and x % 3 == 0, numbers))\n",
    "\n",
    "print(filtered_numbers)"
   ]
  },
  {
   "cell_type": "markdown",
   "id": "46eb7068-7660-4340-ab63-50c6b2da6c0b",
   "metadata": {},
   "source": [
    "Question-6-Write a python program to find palindromes in the given list of strings using lambda and filter\n",
    "function.\n",
    "['python', 'php', 'aba', 'radar', 'level']"
   ]
  },
  {
   "cell_type": "markdown",
   "id": "0cda70ab-49fa-4f5f-b13b-bb2a38278725",
   "metadata": {},
   "source": [
    "Answer-6-"
   ]
  },
  {
   "cell_type": "code",
   "execution_count": 12,
   "id": "e93f67b3-352c-4a05-b1ba-f00c23985ba4",
   "metadata": {},
   "outputs": [
    {
     "name": "stdout",
     "output_type": "stream",
     "text": [
      "['php', 'aba', 'radar', 'level']\n"
     ]
    }
   ],
   "source": [
    "strings = ['python', 'php', 'aba', 'radar', 'level']\n",
    "\n",
    "palindromes = list(filter(lambda x: x == x[::-1], strings))\n",
    "\n",
    "print(palindromes)"
   ]
  },
  {
   "cell_type": "markdown",
   "id": "0ec7136e-5383-4483-99f3-ea84085c2c05",
   "metadata": {},
   "source": [
    "Completed assignment"
   ]
  }
 ],
 "metadata": {
  "kernelspec": {
   "display_name": "Python 3 (ipykernel)",
   "language": "python",
   "name": "python3"
  },
  "language_info": {
   "codemirror_mode": {
    "name": "ipython",
    "version": 3
   },
   "file_extension": ".py",
   "mimetype": "text/x-python",
   "name": "python",
   "nbconvert_exporter": "python",
   "pygments_lexer": "ipython3",
   "version": "3.10.8"
  }
 },
 "nbformat": 4,
 "nbformat_minor": 5
}
